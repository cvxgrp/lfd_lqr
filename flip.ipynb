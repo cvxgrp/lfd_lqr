{
 "cells": [
  {
   "cell_type": "code",
   "execution_count": 1,
   "metadata": {},
   "outputs": [],
   "source": [
    "import numpy as np\n",
    "from scipy.linalg import solve_discrete_are\n",
    "import cvxpy as cp\n",
    "from algorithms import policy_fitting, policy_fitting_with_a_kalman_constraint\n",
    "import warnings\n",
    "import random\n",
    "# warnings.filterwarnings('ignore')"
   ]
  },
  {
   "cell_type": "code",
   "execution_count": 2,
   "metadata": {},
   "outputs": [],
   "source": [
    "np.random.seed(0)\n",
    "n, m = 4, 2\n",
    "A = np.random.randn(n, n)\n",
    "A = A / np.abs(np.linalg.eig(A)[0]).max()\n",
    "B = np.random.randn(n, m)\n",
    "W = .25 * np.eye(n)\n",
    "Q_true = np.eye(n)\n",
    "R_true = np.eye(m)\n",
    "P_true = solve_discrete_are(A, B, Q_true, R_true)\n",
    "K_true = -np.linalg.solve(R_true + B.T @ P_true @ B, B.T @ P_true @ A)"
   ]
  },
  {
   "cell_type": "code",
   "execution_count": 3,
   "metadata": {},
   "outputs": [],
   "source": [
    "def simulate(K, N=10, seed=None, add_noise=False):\n",
    "    if seed is not None:\n",
    "        np.random.seed(seed)\n",
    "    x = np.random.multivariate_normal(np.zeros(n), W)\n",
    "    xs = []\n",
    "    us = []\n",
    "    cost = 0.0\n",
    "    for _ in range(N):\n",
    "        u = K @ x\n",
    "        if add_noise:\n",
    "            u += np.random.randn(m)\n",
    "            for i in range(m):\n",
    "                if random.random() < .1:\n",
    "                    u[i] *= -1.\n",
    "        xs.append(x)\n",
    "        us.append(u)\n",
    "        cost += (x @ Q_true @ x + u @ R_true @ u) / N\n",
    "        x = A @ x + B @ u + np.random.multivariate_normal(np.zeros(n), W)\n",
    "    xs = np.array(xs)\n",
    "    us = np.array(us)\n",
    "    \n",
    "    return cost, xs, us"
   ]
  },
  {
   "cell_type": "code",
   "execution_count": 4,
   "metadata": {},
   "outputs": [
    {
     "data": {
      "text/plain": [
       "(1.7934243186095473, 1.8031177219720198, 18.843574655303694)"
      ]
     },
     "execution_count": 4,
     "metadata": {},
     "output_type": "execute_result"
    }
   ],
   "source": [
    "N_test = 10000\n",
    "cost_true = simulate(K_true, N=N_test, seed=0)[0]\n",
    "cost_noise = simulate(K_true, N=N_test, seed=0, add_noise=True)[0] \n",
    "cost_true, np.trace(P_true @ W), cost_noise"
   ]
  },
  {
   "cell_type": "code",
   "execution_count": 5,
   "metadata": {},
   "outputs": [
    {
     "name": "stderr",
     "output_type": "stream",
     "text": [
      "/home/shane/miniconda3/lib/python3.7/site-packages/ipykernel_launcher.py:17: RuntimeWarning: overflow encountered in matmul\n",
      "/home/shane/miniconda3/lib/python3.7/site-packages/ipykernel_launcher.py:9: RuntimeWarning: overflow encountered in matmul\n",
      "  if __name__ == '__main__':\n",
      "/home/shane/miniconda3/lib/python3.7/site-packages/ipykernel_launcher.py:17: RuntimeWarning: invalid value encountered in matmul\n",
      "/home/shane/miniconda3/lib/python3.7/site-packages/ipykernel_launcher.py:9: RuntimeWarning: invalid value encountered in matmul\n",
      "  if __name__ == '__main__':\n",
      "/home/shane/miniconda3/lib/python3.7/site-packages/ipykernel_launcher.py:18: RuntimeWarning: invalid value encountered in matmul\n",
      "/home/shane/miniconda3/lib/python3.7/site-packages/ipykernel_launcher.py:17: RuntimeWarning: overflow encountered in double_scalars\n",
      "/home/shane/miniconda3/lib/python3.7/site-packages/ipykernel_launcher.py:17: RuntimeWarning: overflow encountered in matmul\n",
      "/home/shane/miniconda3/lib/python3.7/site-packages/ipykernel_launcher.py:18: RuntimeWarning: overflow encountered in matmul\n",
      "/home/shane/miniconda3/lib/python3.7/site-packages/ipykernel_launcher.py:17: RuntimeWarning: invalid value encountered in matmul\n",
      "/home/shane/miniconda3/lib/python3.7/site-packages/ipykernel_launcher.py:18: RuntimeWarning: invalid value encountered in matmul\n",
      "/home/shane/miniconda3/lib/python3.7/site-packages/ipykernel_launcher.py:17: RuntimeWarning: overflow encountered in double_scalars\n",
      "/home/shane/miniconda3/lib/python3.7/site-packages/ipykernel_launcher.py:17: RuntimeWarning: overflow encountered in matmul\n",
      "/home/shane/miniconda3/lib/python3.7/site-packages/ipykernel_launcher.py:9: RuntimeWarning: overflow encountered in matmul\n",
      "  if __name__ == '__main__':\n",
      "/home/shane/miniconda3/lib/python3.7/site-packages/ipykernel_launcher.py:17: RuntimeWarning: invalid value encountered in matmul\n",
      "/home/shane/miniconda3/lib/python3.7/site-packages/ipykernel_launcher.py:18: RuntimeWarning: overflow encountered in matmul\n",
      "/home/shane/miniconda3/lib/python3.7/site-packages/ipykernel_launcher.py:18: RuntimeWarning: invalid value encountered in matmul\n",
      "/home/shane/miniconda3/lib/python3.7/site-packages/ipykernel_launcher.py:17: RuntimeWarning: overflow encountered in matmul\n",
      "/home/shane/miniconda3/lib/python3.7/site-packages/ipykernel_launcher.py:9: RuntimeWarning: overflow encountered in matmul\n",
      "  if __name__ == '__main__':\n",
      "/home/shane/miniconda3/lib/python3.7/site-packages/ipykernel_launcher.py:17: RuntimeWarning: invalid value encountered in matmul\n",
      "/home/shane/miniconda3/lib/python3.7/site-packages/ipykernel_launcher.py:9: RuntimeWarning: invalid value encountered in matmul\n",
      "  if __name__ == '__main__':\n",
      "/home/shane/miniconda3/lib/python3.7/site-packages/ipykernel_launcher.py:18: RuntimeWarning: invalid value encountered in matmul\n",
      "/home/shane/miniconda3/lib/python3.7/site-packages/ipykernel_launcher.py:17: RuntimeWarning: overflow encountered in double_scalars\n",
      "/home/shane/miniconda3/lib/python3.7/site-packages/ipykernel_launcher.py:17: RuntimeWarning: overflow encountered in matmul\n",
      "/home/shane/miniconda3/lib/python3.7/site-packages/ipykernel_launcher.py:18: RuntimeWarning: overflow encountered in matmul\n",
      "/home/shane/miniconda3/lib/python3.7/site-packages/ipykernel_launcher.py:17: RuntimeWarning: invalid value encountered in matmul\n",
      "/home/shane/miniconda3/lib/python3.7/site-packages/ipykernel_launcher.py:18: RuntimeWarning: invalid value encountered in add\n",
      "/home/shane/miniconda3/lib/python3.7/site-packages/ipykernel_launcher.py:17: RuntimeWarning: overflow encountered in matmul\n",
      "/home/shane/miniconda3/lib/python3.7/site-packages/ipykernel_launcher.py:18: RuntimeWarning: overflow encountered in matmul\n",
      "/home/shane/miniconda3/lib/python3.7/site-packages/ipykernel_launcher.py:18: RuntimeWarning: overflow encountered in add\n",
      "/home/shane/miniconda3/lib/python3.7/site-packages/ipykernel_launcher.py:9: RuntimeWarning: invalid value encountered in matmul\n",
      "  if __name__ == '__main__':\n",
      "/home/shane/miniconda3/lib/python3.7/site-packages/ipykernel_launcher.py:17: RuntimeWarning: invalid value encountered in matmul\n",
      "/home/shane/miniconda3/lib/python3.7/site-packages/ipykernel_launcher.py:18: RuntimeWarning: invalid value encountered in matmul\n"
     ]
    },
    {
     "name": "stdout",
     "output_type": "stream",
     "text": [
      " 001 | 1.793 | 18.844 | 17.885 | 12.460\n"
     ]
    },
    {
     "name": "stderr",
     "output_type": "stream",
     "text": [
      "/home/shane/miniconda3/lib/python3.7/site-packages/ipykernel_launcher.py:17: RuntimeWarning: overflow encountered in matmul\n",
      "/home/shane/miniconda3/lib/python3.7/site-packages/ipykernel_launcher.py:18: RuntimeWarning: overflow encountered in matmul\n",
      "/home/shane/miniconda3/lib/python3.7/site-packages/ipykernel_launcher.py:18: RuntimeWarning: overflow encountered in add\n",
      "/home/shane/miniconda3/lib/python3.7/site-packages/ipykernel_launcher.py:17: RuntimeWarning: invalid value encountered in matmul\n",
      "/home/shane/miniconda3/lib/python3.7/site-packages/ipykernel_launcher.py:18: RuntimeWarning: invalid value encountered in matmul\n",
      "/home/shane/miniconda3/lib/python3.7/site-packages/ipykernel_launcher.py:17: RuntimeWarning: overflow encountered in double_scalars\n",
      "/home/shane/miniconda3/lib/python3.7/site-packages/ipykernel_launcher.py:17: RuntimeWarning: overflow encountered in matmul\n",
      "/home/shane/miniconda3/lib/python3.7/site-packages/ipykernel_launcher.py:18: RuntimeWarning: overflow encountered in matmul\n",
      "/home/shane/miniconda3/lib/python3.7/site-packages/ipykernel_launcher.py:9: RuntimeWarning: invalid value encountered in matmul\n",
      "  if __name__ == '__main__':\n",
      "/home/shane/miniconda3/lib/python3.7/site-packages/ipykernel_launcher.py:17: RuntimeWarning: invalid value encountered in matmul\n",
      "/home/shane/miniconda3/lib/python3.7/site-packages/ipykernel_launcher.py:18: RuntimeWarning: invalid value encountered in matmul\n",
      "/home/shane/miniconda3/lib/python3.7/site-packages/ipykernel_launcher.py:17: RuntimeWarning: overflow encountered in matmul\n",
      "/home/shane/miniconda3/lib/python3.7/site-packages/ipykernel_launcher.py:9: RuntimeWarning: overflow encountered in matmul\n",
      "  if __name__ == '__main__':\n",
      "/home/shane/miniconda3/lib/python3.7/site-packages/ipykernel_launcher.py:17: RuntimeWarning: invalid value encountered in matmul\n",
      "/home/shane/miniconda3/lib/python3.7/site-packages/ipykernel_launcher.py:9: RuntimeWarning: invalid value encountered in matmul\n",
      "  if __name__ == '__main__':\n",
      "/home/shane/miniconda3/lib/python3.7/site-packages/ipykernel_launcher.py:18: RuntimeWarning: invalid value encountered in matmul\n",
      "/home/shane/miniconda3/lib/python3.7/site-packages/ipykernel_launcher.py:17: RuntimeWarning: overflow encountered in double_scalars\n",
      "/home/shane/miniconda3/lib/python3.7/site-packages/ipykernel_launcher.py:17: RuntimeWarning: overflow encountered in matmul\n",
      "/home/shane/miniconda3/lib/python3.7/site-packages/ipykernel_launcher.py:9: RuntimeWarning: overflow encountered in matmul\n",
      "  if __name__ == '__main__':\n",
      "/home/shane/miniconda3/lib/python3.7/site-packages/ipykernel_launcher.py:17: RuntimeWarning: invalid value encountered in matmul\n",
      "/home/shane/miniconda3/lib/python3.7/site-packages/ipykernel_launcher.py:9: RuntimeWarning: invalid value encountered in matmul\n",
      "  if __name__ == '__main__':\n",
      "/home/shane/miniconda3/lib/python3.7/site-packages/ipykernel_launcher.py:18: RuntimeWarning: invalid value encountered in matmul\n",
      "/home/shane/miniconda3/lib/python3.7/site-packages/ipykernel_launcher.py:17: RuntimeWarning: overflow encountered in matmul\n",
      "/home/shane/miniconda3/lib/python3.7/site-packages/ipykernel_launcher.py:18: RuntimeWarning: overflow encountered in matmul\n",
      "/home/shane/miniconda3/lib/python3.7/site-packages/ipykernel_launcher.py:18: RuntimeWarning: overflow encountered in add\n",
      "/home/shane/miniconda3/lib/python3.7/site-packages/ipykernel_launcher.py:9: RuntimeWarning: invalid value encountered in matmul\n",
      "  if __name__ == '__main__':\n",
      "/home/shane/miniconda3/lib/python3.7/site-packages/ipykernel_launcher.py:17: RuntimeWarning: invalid value encountered in matmul\n",
      "/home/shane/miniconda3/lib/python3.7/site-packages/ipykernel_launcher.py:18: RuntimeWarning: invalid value encountered in matmul\n",
      "/home/shane/miniconda3/lib/python3.7/site-packages/ipykernel_launcher.py:17: RuntimeWarning: overflow encountered in matmul\n",
      "/home/shane/miniconda3/lib/python3.7/site-packages/ipykernel_launcher.py:18: RuntimeWarning: overflow encountered in matmul\n",
      "/home/shane/miniconda3/lib/python3.7/site-packages/ipykernel_launcher.py:17: RuntimeWarning: invalid value encountered in matmul\n",
      "/home/shane/miniconda3/lib/python3.7/site-packages/ipykernel_launcher.py:18: RuntimeWarning: invalid value encountered in add\n",
      "/home/shane/miniconda3/lib/python3.7/site-packages/ipykernel_launcher.py:9: RuntimeWarning: invalid value encountered in matmul\n",
      "  if __name__ == '__main__':\n",
      "/home/shane/miniconda3/lib/python3.7/site-packages/ipykernel_launcher.py:17: RuntimeWarning: overflow encountered in matmul\n",
      "/home/shane/miniconda3/lib/python3.7/site-packages/ipykernel_launcher.py:18: RuntimeWarning: overflow encountered in matmul\n",
      "/home/shane/miniconda3/lib/python3.7/site-packages/ipykernel_launcher.py:17: RuntimeWarning: invalid value encountered in matmul\n",
      "/home/shane/miniconda3/lib/python3.7/site-packages/ipykernel_launcher.py:18: RuntimeWarning: invalid value encountered in matmul\n",
      "/home/shane/miniconda3/lib/python3.7/site-packages/ipykernel_launcher.py:17: RuntimeWarning: overflow encountered in matmul\n",
      "/home/shane/miniconda3/lib/python3.7/site-packages/ipykernel_launcher.py:18: RuntimeWarning: overflow encountered in matmul\n",
      "/home/shane/miniconda3/lib/python3.7/site-packages/ipykernel_launcher.py:18: RuntimeWarning: overflow encountered in add\n",
      "/home/shane/miniconda3/lib/python3.7/site-packages/ipykernel_launcher.py:9: RuntimeWarning: overflow encountered in matmul\n",
      "  if __name__ == '__main__':\n",
      "/home/shane/miniconda3/lib/python3.7/site-packages/ipykernel_launcher.py:9: RuntimeWarning: invalid value encountered in matmul\n",
      "  if __name__ == '__main__':\n",
      "/home/shane/miniconda3/lib/python3.7/site-packages/ipykernel_launcher.py:17: RuntimeWarning: invalid value encountered in matmul\n",
      "/home/shane/miniconda3/lib/python3.7/site-packages/ipykernel_launcher.py:18: RuntimeWarning: invalid value encountered in matmul\n",
      "/home/shane/miniconda3/lib/python3.7/site-packages/ipykernel_launcher.py:17: RuntimeWarning: overflow encountered in matmul\n",
      "/home/shane/miniconda3/lib/python3.7/site-packages/ipykernel_launcher.py:18: RuntimeWarning: overflow encountered in matmul\n",
      "/home/shane/miniconda3/lib/python3.7/site-packages/ipykernel_launcher.py:17: RuntimeWarning: invalid value encountered in matmul\n",
      "/home/shane/miniconda3/lib/python3.7/site-packages/ipykernel_launcher.py:18: RuntimeWarning: invalid value encountered in matmul\n",
      "/home/shane/miniconda3/lib/python3.7/site-packages/ipykernel_launcher.py:17: RuntimeWarning: overflow encountered in double_scalars\n",
      "/home/shane/miniconda3/lib/python3.7/site-packages/ipykernel_launcher.py:17: RuntimeWarning: overflow encountered in matmul\n",
      "/home/shane/miniconda3/lib/python3.7/site-packages/ipykernel_launcher.py:18: RuntimeWarning: overflow encountered in matmul\n",
      "/home/shane/miniconda3/lib/python3.7/site-packages/ipykernel_launcher.py:17: RuntimeWarning: invalid value encountered in matmul\n",
      "/home/shane/miniconda3/lib/python3.7/site-packages/ipykernel_launcher.py:18: RuntimeWarning: invalid value encountered in matmul\n",
      "/home/shane/miniconda3/lib/python3.7/site-packages/ipykernel_launcher.py:29: RuntimeWarning: Mean of empty slice\n"
     ]
    },
    {
     "name": "stdout",
     "output_type": "stream",
     "text": [
      " 002 | 1.793 | 18.844 | nan | 5.939\n"
     ]
    },
    {
     "name": "stderr",
     "output_type": "stream",
     "text": [
      "/home/shane/miniconda3/lib/python3.7/site-packages/ipykernel_launcher.py:17: RuntimeWarning: overflow encountered in double_scalars\n",
      "/home/shane/miniconda3/lib/python3.7/site-packages/ipykernel_launcher.py:17: RuntimeWarning: overflow encountered in matmul\n",
      "/home/shane/miniconda3/lib/python3.7/site-packages/ipykernel_launcher.py:9: RuntimeWarning: overflow encountered in matmul\n",
      "  if __name__ == '__main__':\n",
      "/home/shane/miniconda3/lib/python3.7/site-packages/ipykernel_launcher.py:9: RuntimeWarning: invalid value encountered in matmul\n",
      "  if __name__ == '__main__':\n",
      "/home/shane/miniconda3/lib/python3.7/site-packages/ipykernel_launcher.py:17: RuntimeWarning: overflow encountered in matmul\n",
      "/home/shane/miniconda3/lib/python3.7/site-packages/ipykernel_launcher.py:18: RuntimeWarning: overflow encountered in add\n",
      "/home/shane/miniconda3/lib/python3.7/site-packages/ipykernel_launcher.py:9: RuntimeWarning: overflow encountered in matmul\n",
      "  if __name__ == '__main__':\n",
      "/home/shane/miniconda3/lib/python3.7/site-packages/ipykernel_launcher.py:9: RuntimeWarning: invalid value encountered in matmul\n",
      "  if __name__ == '__main__':\n",
      "/home/shane/miniconda3/lib/python3.7/site-packages/ipykernel_launcher.py:17: RuntimeWarning: invalid value encountered in matmul\n",
      "/home/shane/miniconda3/lib/python3.7/site-packages/ipykernel_launcher.py:17: RuntimeWarning: overflow encountered in double_scalars\n",
      "/home/shane/miniconda3/lib/python3.7/site-packages/ipykernel_launcher.py:17: RuntimeWarning: overflow encountered in matmul\n",
      "/home/shane/miniconda3/lib/python3.7/site-packages/ipykernel_launcher.py:18: RuntimeWarning: overflow encountered in matmul\n",
      "/home/shane/miniconda3/lib/python3.7/site-packages/ipykernel_launcher.py:9: RuntimeWarning: overflow encountered in matmul\n",
      "  if __name__ == '__main__':\n",
      "/home/shane/miniconda3/lib/python3.7/site-packages/ipykernel_launcher.py:17: RuntimeWarning: invalid value encountered in matmul\n",
      "/home/shane/miniconda3/lib/python3.7/site-packages/ipykernel_launcher.py:18: RuntimeWarning: invalid value encountered in add\n",
      "/home/shane/miniconda3/lib/python3.7/site-packages/ipykernel_launcher.py:9: RuntimeWarning: invalid value encountered in matmul\n",
      "  if __name__ == '__main__':\n",
      "/home/shane/miniconda3/lib/python3.7/site-packages/ipykernel_launcher.py:17: RuntimeWarning: overflow encountered in matmul\n",
      "/home/shane/miniconda3/lib/python3.7/site-packages/ipykernel_launcher.py:17: RuntimeWarning: overflow encountered in double_scalars\n",
      "/home/shane/miniconda3/lib/python3.7/site-packages/ipykernel_launcher.py:9: RuntimeWarning: overflow encountered in matmul\n",
      "  if __name__ == '__main__':\n",
      "/home/shane/miniconda3/lib/python3.7/site-packages/ipykernel_launcher.py:17: RuntimeWarning: invalid value encountered in matmul\n",
      "/home/shane/miniconda3/lib/python3.7/site-packages/ipykernel_launcher.py:9: RuntimeWarning: invalid value encountered in matmul\n",
      "  if __name__ == '__main__':\n",
      "/home/shane/miniconda3/lib/python3.7/site-packages/ipykernel_launcher.py:18: RuntimeWarning: invalid value encountered in matmul\n",
      "/home/shane/miniconda3/lib/python3.7/site-packages/ipykernel_launcher.py:17: RuntimeWarning: overflow encountered in double_scalars\n",
      "/home/shane/miniconda3/lib/python3.7/site-packages/ipykernel_launcher.py:17: RuntimeWarning: overflow encountered in matmul\n",
      "/home/shane/miniconda3/lib/python3.7/site-packages/ipykernel_launcher.py:18: RuntimeWarning: overflow encountered in matmul\n",
      "/home/shane/miniconda3/lib/python3.7/site-packages/ipykernel_launcher.py:9: RuntimeWarning: overflow encountered in matmul\n",
      "  if __name__ == '__main__':\n",
      "/home/shane/miniconda3/lib/python3.7/site-packages/ipykernel_launcher.py:9: RuntimeWarning: invalid value encountered in matmul\n",
      "  if __name__ == '__main__':\n",
      "/home/shane/miniconda3/lib/python3.7/site-packages/ipykernel_launcher.py:17: RuntimeWarning: invalid value encountered in matmul\n",
      "/home/shane/miniconda3/lib/python3.7/site-packages/ipykernel_launcher.py:17: RuntimeWarning: overflow encountered in matmul\n",
      "/home/shane/miniconda3/lib/python3.7/site-packages/ipykernel_launcher.py:9: RuntimeWarning: overflow encountered in matmul\n",
      "  if __name__ == '__main__':\n",
      "/home/shane/miniconda3/lib/python3.7/site-packages/ipykernel_launcher.py:17: RuntimeWarning: invalid value encountered in matmul\n",
      "/home/shane/miniconda3/lib/python3.7/site-packages/ipykernel_launcher.py:9: RuntimeWarning: invalid value encountered in matmul\n",
      "  if __name__ == '__main__':\n",
      "/home/shane/miniconda3/lib/python3.7/site-packages/ipykernel_launcher.py:18: RuntimeWarning: invalid value encountered in matmul\n",
      "/home/shane/miniconda3/lib/python3.7/site-packages/ipykernel_launcher.py:17: RuntimeWarning: overflow encountered in matmul\n",
      "/home/shane/miniconda3/lib/python3.7/site-packages/ipykernel_launcher.py:18: RuntimeWarning: overflow encountered in matmul\n",
      "/home/shane/miniconda3/lib/python3.7/site-packages/ipykernel_launcher.py:9: RuntimeWarning: overflow encountered in matmul\n",
      "  if __name__ == '__main__':\n",
      "/home/shane/miniconda3/lib/python3.7/site-packages/ipykernel_launcher.py:9: RuntimeWarning: invalid value encountered in matmul\n",
      "  if __name__ == '__main__':\n",
      "/home/shane/miniconda3/lib/python3.7/site-packages/ipykernel_launcher.py:17: RuntimeWarning: invalid value encountered in matmul\n",
      "/home/shane/miniconda3/lib/python3.7/site-packages/ipykernel_launcher.py:17: RuntimeWarning: overflow encountered in double_scalars\n",
      "/home/shane/miniconda3/lib/python3.7/site-packages/ipykernel_launcher.py:17: RuntimeWarning: overflow encountered in matmul\n",
      "/home/shane/miniconda3/lib/python3.7/site-packages/ipykernel_launcher.py:18: RuntimeWarning: overflow encountered in matmul\n",
      "/home/shane/miniconda3/lib/python3.7/site-packages/ipykernel_launcher.py:17: RuntimeWarning: invalid value encountered in matmul\n",
      "/home/shane/miniconda3/lib/python3.7/site-packages/ipykernel_launcher.py:18: RuntimeWarning: invalid value encountered in add\n",
      "/home/shane/miniconda3/lib/python3.7/site-packages/ipykernel_launcher.py:17: RuntimeWarning: overflow encountered in matmul\n",
      "/home/shane/miniconda3/lib/python3.7/site-packages/ipykernel_launcher.py:9: RuntimeWarning: overflow encountered in matmul\n",
      "  if __name__ == '__main__':\n",
      "/home/shane/miniconda3/lib/python3.7/site-packages/ipykernel_launcher.py:17: RuntimeWarning: invalid value encountered in matmul\n",
      "/home/shane/miniconda3/lib/python3.7/site-packages/ipykernel_launcher.py:9: RuntimeWarning: invalid value encountered in matmul\n",
      "  if __name__ == '__main__':\n",
      "/home/shane/miniconda3/lib/python3.7/site-packages/ipykernel_launcher.py:18: RuntimeWarning: invalid value encountered in matmul\n"
     ]
    },
    {
     "name": "stdout",
     "output_type": "stream",
     "text": [
      " 003 | 1.793 | 18.844 | 7.186 | 13.508\n"
     ]
    },
    {
     "name": "stderr",
     "output_type": "stream",
     "text": [
      "/home/shane/miniconda3/lib/python3.7/site-packages/ipykernel_launcher.py:17: RuntimeWarning: overflow encountered in matmul\n",
      "/home/shane/miniconda3/lib/python3.7/site-packages/ipykernel_launcher.py:9: RuntimeWarning: overflow encountered in matmul\n",
      "  if __name__ == '__main__':\n",
      "/home/shane/miniconda3/lib/python3.7/site-packages/ipykernel_launcher.py:17: RuntimeWarning: invalid value encountered in matmul\n",
      "/home/shane/miniconda3/lib/python3.7/site-packages/ipykernel_launcher.py:9: RuntimeWarning: invalid value encountered in matmul\n",
      "  if __name__ == '__main__':\n",
      "/home/shane/miniconda3/lib/python3.7/site-packages/ipykernel_launcher.py:18: RuntimeWarning: invalid value encountered in matmul\n",
      "/home/shane/miniconda3/lib/python3.7/site-packages/ipykernel_launcher.py:17: RuntimeWarning: overflow encountered in double_scalars\n",
      "/home/shane/miniconda3/lib/python3.7/site-packages/ipykernel_launcher.py:17: RuntimeWarning: overflow encountered in matmul\n",
      "/home/shane/miniconda3/lib/python3.7/site-packages/ipykernel_launcher.py:17: RuntimeWarning: overflow encountered in matmul\n",
      "/home/shane/miniconda3/lib/python3.7/site-packages/ipykernel_launcher.py:18: RuntimeWarning: overflow encountered in matmul\n",
      "/home/shane/miniconda3/lib/python3.7/site-packages/ipykernel_launcher.py:17: RuntimeWarning: invalid value encountered in matmul\n",
      "/home/shane/miniconda3/lib/python3.7/site-packages/ipykernel_launcher.py:18: RuntimeWarning: invalid value encountered in matmul\n",
      "/home/shane/miniconda3/lib/python3.7/site-packages/ipykernel_launcher.py:17: RuntimeWarning: overflow encountered in double_scalars\n",
      "/home/shane/miniconda3/lib/python3.7/site-packages/ipykernel_launcher.py:17: RuntimeWarning: overflow encountered in matmul\n",
      "/home/shane/miniconda3/lib/python3.7/site-packages/ipykernel_launcher.py:17: RuntimeWarning: overflow encountered in double_scalars\n",
      "/home/shane/miniconda3/lib/python3.7/site-packages/ipykernel_launcher.py:17: RuntimeWarning: overflow encountered in matmul\n",
      "/home/shane/miniconda3/lib/python3.7/site-packages/ipykernel_launcher.py:9: RuntimeWarning: overflow encountered in matmul\n",
      "  if __name__ == '__main__':\n",
      "/home/shane/miniconda3/lib/python3.7/site-packages/ipykernel_launcher.py:9: RuntimeWarning: invalid value encountered in matmul\n",
      "  if __name__ == '__main__':\n",
      "/home/shane/miniconda3/lib/python3.7/site-packages/ipykernel_launcher.py:17: RuntimeWarning: overflow encountered in double_scalars\n",
      "/home/shane/miniconda3/lib/python3.7/site-packages/ipykernel_launcher.py:17: RuntimeWarning: overflow encountered in matmul\n",
      "/home/shane/miniconda3/lib/python3.7/site-packages/ipykernel_launcher.py:9: RuntimeWarning: overflow encountered in matmul\n",
      "  if __name__ == '__main__':\n",
      "/home/shane/miniconda3/lib/python3.7/site-packages/ipykernel_launcher.py:17: RuntimeWarning: invalid value encountered in matmul\n",
      "/home/shane/miniconda3/lib/python3.7/site-packages/ipykernel_launcher.py:9: RuntimeWarning: invalid value encountered in matmul\n",
      "  if __name__ == '__main__':\n",
      "/home/shane/miniconda3/lib/python3.7/site-packages/ipykernel_launcher.py:18: RuntimeWarning: invalid value encountered in matmul\n",
      "/home/shane/miniconda3/lib/python3.7/site-packages/ipykernel_launcher.py:17: RuntimeWarning: overflow encountered in matmul\n",
      "/home/shane/miniconda3/lib/python3.7/site-packages/ipykernel_launcher.py:9: RuntimeWarning: overflow encountered in matmul\n",
      "  if __name__ == '__main__':\n",
      "/home/shane/miniconda3/lib/python3.7/site-packages/ipykernel_launcher.py:17: RuntimeWarning: invalid value encountered in matmul\n",
      "/home/shane/miniconda3/lib/python3.7/site-packages/ipykernel_launcher.py:9: RuntimeWarning: invalid value encountered in matmul\n",
      "  if __name__ == '__main__':\n",
      "/home/shane/miniconda3/lib/python3.7/site-packages/ipykernel_launcher.py:18: RuntimeWarning: invalid value encountered in matmul\n",
      "/home/shane/miniconda3/lib/python3.7/site-packages/ipykernel_launcher.py:17: RuntimeWarning: overflow encountered in matmul\n",
      "/home/shane/miniconda3/lib/python3.7/site-packages/ipykernel_launcher.py:9: RuntimeWarning: overflow encountered in matmul\n",
      "  if __name__ == '__main__':\n",
      "/home/shane/miniconda3/lib/python3.7/site-packages/ipykernel_launcher.py:17: RuntimeWarning: invalid value encountered in matmul\n",
      "/home/shane/miniconda3/lib/python3.7/site-packages/ipykernel_launcher.py:9: RuntimeWarning: invalid value encountered in matmul\n",
      "  if __name__ == '__main__':\n",
      "/home/shane/miniconda3/lib/python3.7/site-packages/ipykernel_launcher.py:18: RuntimeWarning: invalid value encountered in matmul\n",
      "/home/shane/miniconda3/lib/python3.7/site-packages/ipykernel_launcher.py:17: RuntimeWarning: overflow encountered in double_scalars\n",
      "/home/shane/miniconda3/lib/python3.7/site-packages/ipykernel_launcher.py:17: RuntimeWarning: overflow encountered in matmul\n",
      "/home/shane/miniconda3/lib/python3.7/site-packages/ipykernel_launcher.py:9: RuntimeWarning: overflow encountered in matmul\n",
      "  if __name__ == '__main__':\n",
      "/home/shane/miniconda3/lib/python3.7/site-packages/ipykernel_launcher.py:17: RuntimeWarning: invalid value encountered in matmul\n",
      "/home/shane/miniconda3/lib/python3.7/site-packages/ipykernel_launcher.py:9: RuntimeWarning: invalid value encountered in matmul\n",
      "  if __name__ == '__main__':\n",
      "/home/shane/miniconda3/lib/python3.7/site-packages/ipykernel_launcher.py:18: RuntimeWarning: invalid value encountered in matmul\n",
      "/home/shane/miniconda3/lib/python3.7/site-packages/ipykernel_launcher.py:17: RuntimeWarning: overflow encountered in matmul\n",
      "/home/shane/miniconda3/lib/python3.7/site-packages/ipykernel_launcher.py:9: RuntimeWarning: overflow encountered in matmul\n",
      "  if __name__ == '__main__':\n",
      "/home/shane/miniconda3/lib/python3.7/site-packages/ipykernel_launcher.py:17: RuntimeWarning: invalid value encountered in matmul\n",
      "/home/shane/miniconda3/lib/python3.7/site-packages/ipykernel_launcher.py:9: RuntimeWarning: invalid value encountered in matmul\n",
      "  if __name__ == '__main__':\n",
      "/home/shane/miniconda3/lib/python3.7/site-packages/ipykernel_launcher.py:18: RuntimeWarning: invalid value encountered in matmul\n",
      "/home/shane/miniconda3/lib/python3.7/site-packages/ipykernel_launcher.py:29: RuntimeWarning: Mean of empty slice\n"
     ]
    },
    {
     "name": "stdout",
     "output_type": "stream",
     "text": [
      " 004 | 1.793 | 18.844 | nan | 5.550\n"
     ]
    },
    {
     "name": "stderr",
     "output_type": "stream",
     "text": [
      "/home/shane/miniconda3/lib/python3.7/site-packages/ipykernel_launcher.py:17: RuntimeWarning: overflow encountered in double_scalars\n",
      "/home/shane/miniconda3/lib/python3.7/site-packages/ipykernel_launcher.py:17: RuntimeWarning: overflow encountered in matmul\n",
      "/home/shane/miniconda3/lib/python3.7/site-packages/ipykernel_launcher.py:18: RuntimeWarning: overflow encountered in matmul\n",
      "/home/shane/miniconda3/lib/python3.7/site-packages/ipykernel_launcher.py:17: RuntimeWarning: invalid value encountered in matmul\n",
      "/home/shane/miniconda3/lib/python3.7/site-packages/ipykernel_launcher.py:18: RuntimeWarning: invalid value encountered in add\n",
      "/home/shane/miniconda3/lib/python3.7/site-packages/ipykernel_launcher.py:17: RuntimeWarning: overflow encountered in matmul\n",
      "/home/shane/miniconda3/lib/python3.7/site-packages/ipykernel_launcher.py:9: RuntimeWarning: overflow encountered in matmul\n",
      "  if __name__ == '__main__':\n",
      "/home/shane/miniconda3/lib/python3.7/site-packages/ipykernel_launcher.py:17: RuntimeWarning: invalid value encountered in matmul\n",
      "/home/shane/miniconda3/lib/python3.7/site-packages/ipykernel_launcher.py:9: RuntimeWarning: invalid value encountered in matmul\n",
      "  if __name__ == '__main__':\n",
      "/home/shane/miniconda3/lib/python3.7/site-packages/ipykernel_launcher.py:18: RuntimeWarning: invalid value encountered in matmul\n",
      "/home/shane/miniconda3/lib/python3.7/site-packages/ipykernel_launcher.py:17: RuntimeWarning: overflow encountered in matmul\n",
      "/home/shane/miniconda3/lib/python3.7/site-packages/ipykernel_launcher.py:18: RuntimeWarning: overflow encountered in matmul\n",
      "/home/shane/miniconda3/lib/python3.7/site-packages/ipykernel_launcher.py:9: RuntimeWarning: overflow encountered in matmul\n",
      "  if __name__ == '__main__':\n",
      "/home/shane/miniconda3/lib/python3.7/site-packages/ipykernel_launcher.py:9: RuntimeWarning: invalid value encountered in matmul\n",
      "  if __name__ == '__main__':\n",
      "/home/shane/miniconda3/lib/python3.7/site-packages/ipykernel_launcher.py:17: RuntimeWarning: invalid value encountered in matmul\n",
      "/home/shane/miniconda3/lib/python3.7/site-packages/ipykernel_launcher.py:17: RuntimeWarning: overflow encountered in matmul\n",
      "/home/shane/miniconda3/lib/python3.7/site-packages/ipykernel_launcher.py:9: RuntimeWarning: overflow encountered in matmul\n",
      "  if __name__ == '__main__':\n",
      "/home/shane/miniconda3/lib/python3.7/site-packages/ipykernel_launcher.py:9: RuntimeWarning: invalid value encountered in matmul\n",
      "  if __name__ == '__main__':\n",
      "/home/shane/miniconda3/lib/python3.7/site-packages/ipykernel_launcher.py:17: RuntimeWarning: overflow encountered in matmul\n",
      "/home/shane/miniconda3/lib/python3.7/site-packages/ipykernel_launcher.py:18: RuntimeWarning: overflow encountered in matmul\n",
      "/home/shane/miniconda3/lib/python3.7/site-packages/ipykernel_launcher.py:17: RuntimeWarning: invalid value encountered in matmul\n",
      "/home/shane/miniconda3/lib/python3.7/site-packages/ipykernel_launcher.py:18: RuntimeWarning: invalid value encountered in matmul\n",
      "/home/shane/miniconda3/lib/python3.7/site-packages/ipykernel_launcher.py:17: RuntimeWarning: overflow encountered in matmul\n",
      "/home/shane/miniconda3/lib/python3.7/site-packages/ipykernel_launcher.py:17: RuntimeWarning: overflow encountered in double_scalars\n"
     ]
    },
    {
     "name": "stdout",
     "output_type": "stream",
     "text": [
      " 005 | 1.793 | 18.844 | 23.483 | 4.465\n"
     ]
    },
    {
     "name": "stderr",
     "output_type": "stream",
     "text": [
      "/home/shane/miniconda3/lib/python3.7/site-packages/ipykernel_launcher.py:17: RuntimeWarning: overflow encountered in double_scalars\n",
      "/home/shane/miniconda3/lib/python3.7/site-packages/ipykernel_launcher.py:17: RuntimeWarning: overflow encountered in matmul\n",
      "/home/shane/miniconda3/lib/python3.7/site-packages/ipykernel_launcher.py:9: RuntimeWarning: overflow encountered in matmul\n",
      "  if __name__ == '__main__':\n",
      "/home/shane/miniconda3/lib/python3.7/site-packages/ipykernel_launcher.py:17: RuntimeWarning: invalid value encountered in matmul\n",
      "/home/shane/miniconda3/lib/python3.7/site-packages/ipykernel_launcher.py:9: RuntimeWarning: invalid value encountered in matmul\n",
      "  if __name__ == '__main__':\n",
      "/home/shane/miniconda3/lib/python3.7/site-packages/ipykernel_launcher.py:18: RuntimeWarning: invalid value encountered in matmul\n",
      "/home/shane/miniconda3/lib/python3.7/site-packages/ipykernel_launcher.py:17: RuntimeWarning: overflow encountered in matmul\n",
      "/home/shane/miniconda3/lib/python3.7/site-packages/ipykernel_launcher.py:9: RuntimeWarning: overflow encountered in matmul\n",
      "  if __name__ == '__main__':\n",
      "/home/shane/miniconda3/lib/python3.7/site-packages/ipykernel_launcher.py:17: RuntimeWarning: invalid value encountered in matmul\n",
      "/home/shane/miniconda3/lib/python3.7/site-packages/ipykernel_launcher.py:9: RuntimeWarning: invalid value encountered in matmul\n",
      "  if __name__ == '__main__':\n",
      "/home/shane/miniconda3/lib/python3.7/site-packages/ipykernel_launcher.py:18: RuntimeWarning: invalid value encountered in matmul\n",
      "/home/shane/miniconda3/lib/python3.7/site-packages/ipykernel_launcher.py:17: RuntimeWarning: overflow encountered in double_scalars\n",
      "/home/shane/miniconda3/lib/python3.7/site-packages/ipykernel_launcher.py:17: RuntimeWarning: overflow encountered in matmul\n",
      "/home/shane/miniconda3/lib/python3.7/site-packages/ipykernel_launcher.py:18: RuntimeWarning: overflow encountered in matmul\n",
      "/home/shane/miniconda3/lib/python3.7/site-packages/ipykernel_launcher.py:17: RuntimeWarning: invalid value encountered in matmul\n",
      "/home/shane/miniconda3/lib/python3.7/site-packages/ipykernel_launcher.py:18: RuntimeWarning: invalid value encountered in matmul\n",
      "/home/shane/miniconda3/lib/python3.7/site-packages/ipykernel_launcher.py:17: RuntimeWarning: overflow encountered in matmul\n",
      "/home/shane/miniconda3/lib/python3.7/site-packages/ipykernel_launcher.py:18: RuntimeWarning: overflow encountered in matmul\n",
      "/home/shane/miniconda3/lib/python3.7/site-packages/ipykernel_launcher.py:9: RuntimeWarning: overflow encountered in matmul\n",
      "  if __name__ == '__main__':\n",
      "/home/shane/miniconda3/lib/python3.7/site-packages/ipykernel_launcher.py:9: RuntimeWarning: invalid value encountered in matmul\n",
      "  if __name__ == '__main__':\n",
      "/home/shane/miniconda3/lib/python3.7/site-packages/ipykernel_launcher.py:17: RuntimeWarning: invalid value encountered in matmul\n",
      "/home/shane/miniconda3/lib/python3.7/site-packages/ipykernel_launcher.py:17: RuntimeWarning: overflow encountered in matmul\n",
      "/home/shane/miniconda3/lib/python3.7/site-packages/ipykernel_launcher.py:18: RuntimeWarning: overflow encountered in matmul\n",
      "/home/shane/miniconda3/lib/python3.7/site-packages/ipykernel_launcher.py:9: RuntimeWarning: invalid value encountered in matmul\n",
      "  if __name__ == '__main__':\n",
      "/home/shane/miniconda3/lib/python3.7/site-packages/ipykernel_launcher.py:17: RuntimeWarning: invalid value encountered in matmul\n",
      "/home/shane/miniconda3/lib/python3.7/site-packages/ipykernel_launcher.py:18: RuntimeWarning: invalid value encountered in matmul\n",
      "/home/shane/miniconda3/lib/python3.7/site-packages/ipykernel_launcher.py:17: RuntimeWarning: overflow encountered in matmul\n",
      "/home/shane/miniconda3/lib/python3.7/site-packages/ipykernel_launcher.py:17: RuntimeWarning: overflow encountered in matmul\n",
      "/home/shane/miniconda3/lib/python3.7/site-packages/ipykernel_launcher.py:18: RuntimeWarning: overflow encountered in add\n",
      "/home/shane/miniconda3/lib/python3.7/site-packages/ipykernel_launcher.py:17: RuntimeWarning: invalid value encountered in matmul\n",
      "/home/shane/miniconda3/lib/python3.7/site-packages/ipykernel_launcher.py:18: RuntimeWarning: invalid value encountered in add\n",
      "/home/shane/miniconda3/lib/python3.7/site-packages/ipykernel_launcher.py:17: RuntimeWarning: overflow encountered in double_scalars\n",
      "/home/shane/miniconda3/lib/python3.7/site-packages/ipykernel_launcher.py:17: RuntimeWarning: overflow encountered in matmul\n",
      "/home/shane/miniconda3/lib/python3.7/site-packages/ipykernel_launcher.py:18: RuntimeWarning: overflow encountered in matmul\n",
      "/home/shane/miniconda3/lib/python3.7/site-packages/ipykernel_launcher.py:17: RuntimeWarning: invalid value encountered in matmul\n",
      "/home/shane/miniconda3/lib/python3.7/site-packages/ipykernel_launcher.py:18: RuntimeWarning: invalid value encountered in matmul\n"
     ]
    },
    {
     "name": "stdout",
     "output_type": "stream",
     "text": [
      " 006 | 1.793 | 18.844 | 8.436 | 5.246\n"
     ]
    },
    {
     "name": "stderr",
     "output_type": "stream",
     "text": [
      "/home/shane/miniconda3/lib/python3.7/site-packages/ipykernel_launcher.py:17: RuntimeWarning: overflow encountered in matmul\n",
      "/home/shane/miniconda3/lib/python3.7/site-packages/ipykernel_launcher.py:9: RuntimeWarning: overflow encountered in matmul\n",
      "  if __name__ == '__main__':\n",
      "/home/shane/miniconda3/lib/python3.7/site-packages/ipykernel_launcher.py:17: RuntimeWarning: invalid value encountered in matmul\n",
      "/home/shane/miniconda3/lib/python3.7/site-packages/ipykernel_launcher.py:18: RuntimeWarning: overflow encountered in matmul\n",
      "/home/shane/miniconda3/lib/python3.7/site-packages/ipykernel_launcher.py:9: RuntimeWarning: invalid value encountered in matmul\n",
      "  if __name__ == '__main__':\n",
      "/home/shane/miniconda3/lib/python3.7/site-packages/ipykernel_launcher.py:18: RuntimeWarning: invalid value encountered in matmul\n",
      "/home/shane/miniconda3/lib/python3.7/site-packages/ipykernel_launcher.py:17: RuntimeWarning: overflow encountered in matmul\n",
      "/home/shane/miniconda3/lib/python3.7/site-packages/ipykernel_launcher.py:18: RuntimeWarning: overflow encountered in add\n",
      "/home/shane/miniconda3/lib/python3.7/site-packages/ipykernel_launcher.py:17: RuntimeWarning: invalid value encountered in matmul\n",
      "/home/shane/miniconda3/lib/python3.7/site-packages/ipykernel_launcher.py:18: RuntimeWarning: invalid value encountered in matmul\n",
      "/home/shane/miniconda3/lib/python3.7/site-packages/ipykernel_launcher.py:17: RuntimeWarning: overflow encountered in matmul\n",
      "/home/shane/miniconda3/lib/python3.7/site-packages/ipykernel_launcher.py:18: RuntimeWarning: overflow encountered in matmul\n",
      "/home/shane/miniconda3/lib/python3.7/site-packages/ipykernel_launcher.py:17: RuntimeWarning: invalid value encountered in matmul\n",
      "/home/shane/miniconda3/lib/python3.7/site-packages/ipykernel_launcher.py:18: RuntimeWarning: invalid value encountered in matmul\n",
      "/home/shane/miniconda3/lib/python3.7/site-packages/ipykernel_launcher.py:17: RuntimeWarning: overflow encountered in matmul\n",
      "/home/shane/miniconda3/lib/python3.7/site-packages/ipykernel_launcher.py:18: RuntimeWarning: overflow encountered in matmul\n",
      "/home/shane/miniconda3/lib/python3.7/site-packages/ipykernel_launcher.py:17: RuntimeWarning: invalid value encountered in matmul\n",
      "/home/shane/miniconda3/lib/python3.7/site-packages/ipykernel_launcher.py:18: RuntimeWarning: invalid value encountered in add\n"
     ]
    },
    {
     "name": "stdout",
     "output_type": "stream",
     "text": [
      " 007 | 1.793 | 18.844 | 14.981 | 3.904\n"
     ]
    },
    {
     "name": "stderr",
     "output_type": "stream",
     "text": [
      "/home/shane/miniconda3/lib/python3.7/site-packages/ipykernel_launcher.py:17: RuntimeWarning: overflow encountered in double_scalars\n",
      "/home/shane/miniconda3/lib/python3.7/site-packages/ipykernel_launcher.py:17: RuntimeWarning: overflow encountered in matmul\n",
      "/home/shane/miniconda3/lib/python3.7/site-packages/ipykernel_launcher.py:9: RuntimeWarning: overflow encountered in matmul\n",
      "  if __name__ == '__main__':\n",
      "/home/shane/miniconda3/lib/python3.7/site-packages/ipykernel_launcher.py:17: RuntimeWarning: invalid value encountered in matmul\n",
      "/home/shane/miniconda3/lib/python3.7/site-packages/ipykernel_launcher.py:9: RuntimeWarning: invalid value encountered in matmul\n",
      "  if __name__ == '__main__':\n",
      "/home/shane/miniconda3/lib/python3.7/site-packages/ipykernel_launcher.py:18: RuntimeWarning: invalid value encountered in matmul\n"
     ]
    },
    {
     "name": "stdout",
     "output_type": "stream",
     "text": [
      " 008 | 1.793 | 18.844 | 44.475 | 3.737\n",
      " 009 | 1.793 | 18.844 | 8.096 | 5.146\n"
     ]
    },
    {
     "name": "stderr",
     "output_type": "stream",
     "text": [
      "/home/shane/miniconda3/lib/python3.7/site-packages/ipykernel_launcher.py:17: RuntimeWarning: overflow encountered in double_scalars\n",
      "/home/shane/miniconda3/lib/python3.7/site-packages/ipykernel_launcher.py:17: RuntimeWarning: overflow encountered in matmul\n",
      "/home/shane/miniconda3/lib/python3.7/site-packages/ipykernel_launcher.py:18: RuntimeWarning: overflow encountered in matmul\n",
      "/home/shane/miniconda3/lib/python3.7/site-packages/ipykernel_launcher.py:17: RuntimeWarning: invalid value encountered in matmul\n",
      "/home/shane/miniconda3/lib/python3.7/site-packages/ipykernel_launcher.py:18: RuntimeWarning: invalid value encountered in matmul\n"
     ]
    },
    {
     "name": "stdout",
     "output_type": "stream",
     "text": [
      " 010 | 1.793 | 18.844 | 7.092 | 3.135\n"
     ]
    },
    {
     "name": "stderr",
     "output_type": "stream",
     "text": [
      "/home/shane/miniconda3/lib/python3.7/site-packages/ipykernel_launcher.py:17: RuntimeWarning: overflow encountered in matmul\n",
      "/home/shane/miniconda3/lib/python3.7/site-packages/ipykernel_launcher.py:18: RuntimeWarning: overflow encountered in add\n",
      "/home/shane/miniconda3/lib/python3.7/site-packages/ipykernel_launcher.py:17: RuntimeWarning: invalid value encountered in matmul\n",
      "/home/shane/miniconda3/lib/python3.7/site-packages/ipykernel_launcher.py:18: RuntimeWarning: invalid value encountered in matmul\n"
     ]
    },
    {
     "name": "stdout",
     "output_type": "stream",
     "text": [
      " 011 | 1.793 | 18.844 | 4.656 | 2.752\n"
     ]
    },
    {
     "name": "stderr",
     "output_type": "stream",
     "text": [
      "/home/shane/miniconda3/lib/python3.7/site-packages/ipykernel_launcher.py:17: RuntimeWarning: overflow encountered in matmul\n",
      "/home/shane/miniconda3/lib/python3.7/site-packages/ipykernel_launcher.py:18: RuntimeWarning: overflow encountered in matmul\n",
      "/home/shane/miniconda3/lib/python3.7/site-packages/ipykernel_launcher.py:17: RuntimeWarning: invalid value encountered in matmul\n",
      "/home/shane/miniconda3/lib/python3.7/site-packages/ipykernel_launcher.py:18: RuntimeWarning: invalid value encountered in add\n"
     ]
    },
    {
     "name": "stdout",
     "output_type": "stream",
     "text": [
      " 012 | 1.793 | 18.844 | 6.547 | 2.731\n"
     ]
    },
    {
     "name": "stderr",
     "output_type": "stream",
     "text": [
      "/home/shane/miniconda3/lib/python3.7/site-packages/ipykernel_launcher.py:17: RuntimeWarning: overflow encountered in matmul\n",
      "/home/shane/miniconda3/lib/python3.7/site-packages/ipykernel_launcher.py:18: RuntimeWarning: overflow encountered in add\n",
      "/home/shane/miniconda3/lib/python3.7/site-packages/ipykernel_launcher.py:17: RuntimeWarning: invalid value encountered in matmul\n",
      "/home/shane/miniconda3/lib/python3.7/site-packages/ipykernel_launcher.py:18: RuntimeWarning: invalid value encountered in matmul\n"
     ]
    },
    {
     "name": "stdout",
     "output_type": "stream",
     "text": [
      " 013 | 1.793 | 18.844 | 4.346 | 3.240\n",
      " 014 | 1.793 | 18.844 | 4.186 | 2.582\n",
      " 015 | 1.793 | 18.844 | 4.730 | 2.506\n"
     ]
    },
    {
     "name": "stderr",
     "output_type": "stream",
     "text": [
      "/home/shane/miniconda3/lib/python3.7/site-packages/ipykernel_launcher.py:17: RuntimeWarning: overflow encountered in double_scalars\n",
      "/home/shane/miniconda3/lib/python3.7/site-packages/ipykernel_launcher.py:17: RuntimeWarning: overflow encountered in matmul\n",
      "/home/shane/miniconda3/lib/python3.7/site-packages/ipykernel_launcher.py:18: RuntimeWarning: overflow encountered in matmul\n",
      "/home/shane/miniconda3/lib/python3.7/site-packages/ipykernel_launcher.py:17: RuntimeWarning: invalid value encountered in matmul\n",
      "/home/shane/miniconda3/lib/python3.7/site-packages/ipykernel_launcher.py:18: RuntimeWarning: invalid value encountered in add\n"
     ]
    },
    {
     "name": "stdout",
     "output_type": "stream",
     "text": [
      " 016 | 1.793 | 18.844 | 5.530 | 2.540\n",
      " 017 | 1.793 | 18.844 | 4.583 | 2.231\n",
      " 018 | 1.793 | 18.844 | 5.089 | 2.397\n",
      " 019 | 1.793 | 18.844 | 3.373 | 2.460\n",
      " 020 | 1.793 | 18.844 | 3.626 | 2.414\n",
      " 021 | 1.793 | 18.844 | 3.115 | 2.358\n",
      " 022 | 1.793 | 18.844 | 2.847 | 2.011\n",
      " 023 | 1.793 | 18.844 | 3.375 | 2.268\n",
      " 024 | 1.793 | 18.844 | 3.482 | 2.168\n",
      " 025 | 1.793 | 18.844 | 2.926 | 2.216\n",
      " 026 | 1.793 | 18.844 | 2.755 | 2.040\n",
      " 027 | 1.793 | 18.844 | 2.742 | 2.052\n",
      " 028 | 1.793 | 18.844 | 3.026 | 2.197\n",
      " 029 | 1.793 | 18.844 | 2.875 | 2.171\n",
      " 030 | 1.793 | 18.844 | 2.621 | 2.190\n",
      " 031 | 1.793 | 18.844 | 2.257 | 2.022\n",
      " 032 | 1.793 | 18.844 | 2.599 | 2.088\n",
      " 033 | 1.793 | 18.844 | 2.734 | 2.015\n",
      " 034 | 1.793 | 18.844 | 2.717 | 2.089\n",
      " 035 | 1.793 | 18.844 | 2.907 | 2.125\n",
      " 036 | 1.793 | 18.844 | 2.222 | 2.082\n",
      " 037 | 1.793 | 18.844 | 2.725 | 2.244\n",
      " 038 | 1.793 | 18.844 | 2.208 | 2.001\n",
      " 039 | 1.793 | 18.844 | 2.505 | 2.090\n",
      " 040 | 1.793 | 18.844 | 2.505 | 2.148\n",
      " 041 | 1.793 | 18.844 | 2.787 | 2.143\n",
      " 042 | 1.793 | 18.844 | 2.508 | 2.047\n",
      " 043 | 1.793 | 18.844 | 2.552 | 2.153\n",
      " 044 | 1.793 | 18.844 | 2.463 | 2.086\n",
      " 045 | 1.793 | 18.844 | 2.401 | 2.017\n",
      " 046 | 1.793 | 18.844 | 2.526 | 2.080\n",
      " 047 | 1.793 | 18.844 | 2.413 | 2.006\n",
      " 048 | 1.793 | 18.844 | 2.543 | 1.991\n",
      " 049 | 1.793 | 18.844 | 2.551 | 1.975\n",
      " 050 | 1.793 | 18.844 | 2.356 | 1.924\n"
     ]
    }
   ],
   "source": [
    "costs_lr = []\n",
    "costs_admm = []\n",
    "Ns = np.arange(1, 51)\n",
    "for N in Ns:\n",
    "    costs_lr += [[]]\n",
    "    costs_admm += [[]]\n",
    "    for k in range(1, 11):\n",
    "        _, xs, us = simulate(K_true, N=N, seed=k, add_noise=True)\n",
    "\n",
    "        def L(K):\n",
    "            return cp.sum(cp.huber(xs @ K.T - us, .5))\n",
    "\n",
    "        def r(K):\n",
    "            return .01 * cp.sum_squares(K), []\n",
    "        \n",
    "        Klr = policy_fitting(L, r, xs, us)\n",
    "        Kadmm = policy_fitting_with_a_kalman_constraint(L, r, xs, us, A, B, n_random=5)\n",
    "        \n",
    "        cost_lr = simulate(Klr, N=N_test, seed=0)[0]\n",
    "        cost_admm = simulate(Kadmm, N=N_test, seed=0)[0]\n",
    "        \n",
    "        if np.isnan(cost_lr) or cost_lr > 1e5 or cost_lr == np.inf:\n",
    "            cost_lr = np.nan\n",
    "\n",
    "        costs_lr[-1].append(cost_lr)\n",
    "        costs_admm[-1].append(cost_admm)\n",
    "\n",
    "    print (\" %03d | %3.3f | %3.3f | %3.3f | %3.3f\" %\n",
    "           (N, cost_true, cost_noise, np.nanmean(costs_lr[-1]), np.nanmean(costs_admm[-1])))"
   ]
  },
  {
   "cell_type": "code",
   "execution_count": 6,
   "metadata": {},
   "outputs": [],
   "source": [
    "costs_lr = np.array(costs_lr)\n",
    "costs_admm = np.array(costs_admm)"
   ]
  },
  {
   "cell_type": "code",
   "execution_count": 7,
   "metadata": {},
   "outputs": [
    {
     "name": "stderr",
     "output_type": "stream",
     "text": [
      "/home/shane/miniconda3/lib/python3.7/site-packages/ipykernel_launcher.py:1: RuntimeWarning: Mean of empty slice\n",
      "  \"\"\"Entry point for launching an IPython kernel.\n",
      "/home/shane/miniconda3/lib/python3.7/site-packages/numpy/lib/nanfunctions.py:1666: RuntimeWarning: Degrees of freedom <= 0 for slice.\n",
      "  keepdims=keepdims)\n"
     ]
    }
   ],
   "source": [
    "mean_lr = np.nanmean(costs_lr, axis=1)\n",
    "std_lr = np.nanstd(costs_lr, axis=1)"
   ]
  },
  {
   "cell_type": "code",
   "execution_count": 8,
   "metadata": {},
   "outputs": [],
   "source": [
    "mean_admm = np.nanmean(costs_admm, axis=1)\n",
    "std_admm = np.nanstd(costs_admm, axis=1)"
   ]
  },
  {
   "cell_type": "code",
   "execution_count": 9,
   "metadata": {},
   "outputs": [
    {
     "data": {
      "text/plain": [
       "array([17.88463834,         nan,  7.18602901,         nan, 23.48261452,\n",
       "        8.43584694, 14.98148877, 44.47505642,  8.09576731,  7.09242333,\n",
       "        4.65626538,  6.54669287,  4.34611455,  4.1863064 ,  4.72997278,\n",
       "        5.53025179,  4.58330659,  5.0887345 ,  3.37287197,  3.62599819,\n",
       "        3.11517781,  2.84727996,  3.37546613,  3.48181687,  2.92574885,\n",
       "        2.75487631,  2.74222125,  3.02597631,  2.87451904,  2.62140487,\n",
       "        2.256775  ,  2.59888811,  2.73445555,  2.71662962,  2.90696657,\n",
       "        2.22220488,  2.72455813,  2.20759909,  2.50477256,  2.50513696,\n",
       "        2.78686451,  2.50792071,  2.55167904,  2.46288925,  2.40123814,\n",
       "        2.52599536,  2.41258949,  2.54318388,  2.55086983,  2.35601662])"
      ]
     },
     "execution_count": 9,
     "metadata": {},
     "output_type": "execute_result"
    }
   ],
   "source": [
    "mean_lr"
   ]
  },
  {
   "cell_type": "code",
   "execution_count": 10,
   "metadata": {},
   "outputs": [
    {
     "data": {
      "text/plain": [
       "array([12.45959713,  5.93878182, 13.50770644,  5.54994686,  4.46539205,\n",
       "        5.24565854,  3.90446968,  3.73663023,  5.14603724,  3.13525122,\n",
       "        2.75150153,  2.73085728,  3.24015797,  2.58176305,  2.5063684 ,\n",
       "        2.5403887 ,  2.23128929,  2.39725499,  2.46030853,  2.4138163 ,\n",
       "        2.35750845,  2.01065232,  2.26794575,  2.16815446,  2.21592664,\n",
       "        2.04005193,  2.05175912,  2.19655304,  2.17100166,  2.19012607,\n",
       "        2.0224732 ,  2.08761477,  2.01504809,  2.08861192,  2.12512687,\n",
       "        2.0815756 ,  2.24416754,  2.00102876,  2.08988599,  2.14763068,\n",
       "        2.14307852,  2.04734498,  2.15254947,  2.08572251,  2.01685283,\n",
       "        2.08045657,  2.00648745,  1.99115469,  1.97527556,  1.92429379])"
      ]
     },
     "execution_count": 10,
     "metadata": {},
     "output_type": "execute_result"
    }
   ],
   "source": [
    "mean_admm"
   ]
  },
  {
   "cell_type": "code",
   "execution_count": 11,
   "metadata": {},
   "outputs": [],
   "source": [
    "# mean_admm = np.load(\"mean_admm.npy\")\n",
    "# mean_lr = np.load(\"mean_lr.npy\")\n",
    "# std_admm = np.load(\"std_admm.npy\")\n",
    "# std_lr = np.load(\"std_lr.npy\")\n",
    "# costs_lr = np.load(\"costs_lr.npy\")\n",
    "# costs_admm = np.load(\"costs_admm.npy\")"
   ]
  },
  {
   "cell_type": "code",
   "execution_count": 14,
   "metadata": {},
   "outputs": [
    {
     "data": {
      "image/png": "[encoded data removed]",
      "text/plain": [
       "<Figure size 432x201.6 with 1 Axes>"
      ]
     },
     "metadata": {
      "needs_background": "light"
     },
     "output_type": "display_data"
    }
   ],
   "source": [
    "from utils import latexify\n",
    "import matplotlib.pyplot as plt\n",
    "\n",
    "plt.close()\n",
    "latexify(fig_width=6, fig_height=2.8)\n",
    "plt.axhline(cost_noise, ls='--', c='k', label='expert')\n",
    "plt.scatter(np.arange(1,51), mean_lr, s=4, marker='o', c='blue', label='policy fitting')\n",
    "plt.fill_between(np.arange(1,51), mean_lr - std_lr / 3, mean_lr + std_lr / 3, alpha=.5, color='blue')\n",
    "plt.scatter(np.arange(1,51), mean_admm, s=4, marker='*', c='green', label='ours')\n",
    "plt.fill_between(np.arange(1,51), mean_admm - std_admm / 3, mean_admm + std_admm / 3, alpha=.5, color='green')\n",
    "plt.semilogy()\n",
    "plt.axhline(cost_true, ls='-', c='k', label='optimal')\n",
    "plt.ylabel('cost')\n",
    "plt.xlabel('demonstrations')\n",
    "plt.legend()\n",
    "plt.tight_layout()\n",
    "plt.savefig(\"figs/flip.pdf\")\n",
    "plt.show()"
   ]
  },
  {
   "cell_type": "code",
   "execution_count": 15,
   "metadata": {},
   "outputs": [
    {
     "data": {
      "image/png": "[encoded data removed]",
      "text/plain": [
       "<Figure size 432x144 with 1 Axes>"
      ]
     },
     "metadata": {
      "needs_background": "light"
     },
     "output_type": "display_data"
    }
   ],
   "source": [
    "plt.close()\n",
    "latexify(fig_width=6, fig_height=2)\n",
    "plt.plot(np.isnan(costs_lr).mean(axis=1), c='k')\n",
    "plt.xlabel(\"demonstrations\")\n",
    "plt.ylabel(\"fraction infinite\")\n",
    "plt.tight_layout()\n",
    "plt.savefig(\"figs/inf_flip.pdf\")"
   ]
  },
  {
   "cell_type": "code",
   "execution_count": null,
   "metadata": {},
   "outputs": [],
   "source": []
  }
 ],
 "metadata": {
  "@webio": {
   "lastCommId": null,
   "lastKernelId": null
  },
  "kernelspec": {
   "display_name": "Python 3",
   "language": "python",
   "name": "python3"
  },
  "language_info": {
   "codemirror_mode": {
    "name": "ipython",
    "version": 3
   },
   "file_extension": ".py",
   "mimetype": "text/x-python",
   "name": "python",
   "nbconvert_exporter": "python",
   "pygments_lexer": "ipython3",
   "version": "3.7.3"
  }
 },
 "nbformat": 4,
 "nbformat_minor": 2
}
